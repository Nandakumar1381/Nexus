{
  "cells": [
    {
      "cell_type": "markdown",
      "metadata": {
        "id": "view-in-github",
        "colab_type": "text"
      },
      "source": [
        "<a href=\"https://colab.research.google.com/github/Nandakumar1381/Nexus/blob/main/Nexus.ipynb\" target=\"_parent\"><img src=\"https://colab.research.google.com/assets/colab-badge.svg\" alt=\"Open In Colab\"/></a>"
      ]
    },
    {
      "cell_type": "code",
      "execution_count": 1,
      "metadata": {
        "colab": {
          "base_uri": "https://localhost:8080/"
        },
        "id": "Ib6H3QWBO5tR",
        "outputId": "a833ddc5-4db1-4fba-fd50-2d6426234e97"
      },
      "outputs": [
        {
          "output_type": "stream",
          "name": "stdout",
          "text": [
            "Mounted at /content/drive\n"
          ]
        }
      ],
      "source": [
        "from google.colab import drive\n",
        "drive.mount('/content/drive')"
      ]
    },
    {
      "cell_type": "code",
      "execution_count": 2,
      "metadata": {
        "id": "zO408iNlHZJg"
      },
      "outputs": [],
      "source": [
        "import os\n",
        "import time\n",
        "\n",
        "import numpy as np\n",
        "import pandas as pd\n",
        "import matplotlib.pyplot as plt\n",
        "\n",
        "import torch\n",
        "import torch.nn as nn\n",
        "from torch.utils.data import TensorDataset, DataLoader\n",
        "\n",
        "from tqdm.notebook import tqdm as tqdm_notebook\n",
        "from sklearn.preprocessing import MinMaxScaler"
      ]
    },
    {
      "cell_type": "code",
      "execution_count": 3,
      "metadata": {
        "colab": {
          "base_uri": "https://localhost:8080/"
        },
        "id": "Igl7Rr6mKs-2",
        "outputId": "045ff072-30a1-4758-8262-ace0c3d1172a"
      },
      "outputs": [
        {
          "output_type": "stream",
          "name": "stdout",
          "text": [
            "['AEP_hourly.csv', 'COMED_hourly.csv', 'DAYTON_hourly.csv', 'DOM_hourly.csv', 'DEOK_hourly.csv', 'DUQ_hourly.csv', 'EKPC_hourly.csv', 'est_hourly.paruqet', 'FE_hourly.csv', 'NI_hourly.csv', 'pjm_hourly_est.csv', 'PJM_Load_hourly.csv', 'PJMW_hourly.csv', 'PJME_hourly.csv']\n"
          ]
        }
      ],
      "source": [
        "data_dir = \"/content/drive/MyDrive/Important/archive\"\n",
        "print(os.listdir(data_dir))"
      ]
    },
    {
      "cell_type": "code",
      "execution_count": 4,
      "metadata": {
        "colab": {
          "base_uri": "https://localhost:8080/",
          "height": 206
        },
        "id": "ZDCVENWqmUQT",
        "outputId": "f3774712-caad-4782-f83a-e3c7f54767f6"
      },
      "outputs": [
        {
          "output_type": "execute_result",
          "data": {
            "text/plain": [
              "              Datetime  DEOK_MW\n",
              "0  2012-12-31 01:00:00   2945.0\n",
              "1  2012-12-31 02:00:00   2868.0\n",
              "2  2012-12-31 03:00:00   2812.0\n",
              "3  2012-12-31 04:00:00   2812.0\n",
              "4  2012-12-31 05:00:00   2860.0"
            ],
            "text/html": [
              "\n",
              "  <div id=\"df-1e49ebe7-a786-47de-97dd-1686118cbe3f\" class=\"colab-df-container\">\n",
              "    <div>\n",
              "<style scoped>\n",
              "    .dataframe tbody tr th:only-of-type {\n",
              "        vertical-align: middle;\n",
              "    }\n",
              "\n",
              "    .dataframe tbody tr th {\n",
              "        vertical-align: top;\n",
              "    }\n",
              "\n",
              "    .dataframe thead th {\n",
              "        text-align: right;\n",
              "    }\n",
              "</style>\n",
              "<table border=\"1\" class=\"dataframe\">\n",
              "  <thead>\n",
              "    <tr style=\"text-align: right;\">\n",
              "      <th></th>\n",
              "      <th>Datetime</th>\n",
              "      <th>DEOK_MW</th>\n",
              "    </tr>\n",
              "  </thead>\n",
              "  <tbody>\n",
              "    <tr>\n",
              "      <th>0</th>\n",
              "      <td>2012-12-31 01:00:00</td>\n",
              "      <td>2945.0</td>\n",
              "    </tr>\n",
              "    <tr>\n",
              "      <th>1</th>\n",
              "      <td>2012-12-31 02:00:00</td>\n",
              "      <td>2868.0</td>\n",
              "    </tr>\n",
              "    <tr>\n",
              "      <th>2</th>\n",
              "      <td>2012-12-31 03:00:00</td>\n",
              "      <td>2812.0</td>\n",
              "    </tr>\n",
              "    <tr>\n",
              "      <th>3</th>\n",
              "      <td>2012-12-31 04:00:00</td>\n",
              "      <td>2812.0</td>\n",
              "    </tr>\n",
              "    <tr>\n",
              "      <th>4</th>\n",
              "      <td>2012-12-31 05:00:00</td>\n",
              "      <td>2860.0</td>\n",
              "    </tr>\n",
              "  </tbody>\n",
              "</table>\n",
              "</div>\n",
              "    <div class=\"colab-df-buttons\">\n",
              "\n",
              "  <div class=\"colab-df-container\">\n",
              "    <button class=\"colab-df-convert\" onclick=\"convertToInteractive('df-1e49ebe7-a786-47de-97dd-1686118cbe3f')\"\n",
              "            title=\"Convert this dataframe to an interactive table.\"\n",
              "            style=\"display:none;\">\n",
              "\n",
              "  <svg xmlns=\"http://www.w3.org/2000/svg\" height=\"24px\" viewBox=\"0 -960 960 960\">\n",
              "    <path d=\"M120-120v-720h720v720H120Zm60-500h600v-160H180v160Zm220 220h160v-160H400v160Zm0 220h160v-160H400v160ZM180-400h160v-160H180v160Zm440 0h160v-160H620v160ZM180-180h160v-160H180v160Zm440 0h160v-160H620v160Z\"/>\n",
              "  </svg>\n",
              "    </button>\n",
              "\n",
              "  <style>\n",
              "    .colab-df-container {\n",
              "      display:flex;\n",
              "      gap: 12px;\n",
              "    }\n",
              "\n",
              "    .colab-df-convert {\n",
              "      background-color: #E8F0FE;\n",
              "      border: none;\n",
              "      border-radius: 50%;\n",
              "      cursor: pointer;\n",
              "      display: none;\n",
              "      fill: #1967D2;\n",
              "      height: 32px;\n",
              "      padding: 0 0 0 0;\n",
              "      width: 32px;\n",
              "    }\n",
              "\n",
              "    .colab-df-convert:hover {\n",
              "      background-color: #E2EBFA;\n",
              "      box-shadow: 0px 1px 2px rgba(60, 64, 67, 0.3), 0px 1px 3px 1px rgba(60, 64, 67, 0.15);\n",
              "      fill: #174EA6;\n",
              "    }\n",
              "\n",
              "    .colab-df-buttons div {\n",
              "      margin-bottom: 4px;\n",
              "    }\n",
              "\n",
              "    [theme=dark] .colab-df-convert {\n",
              "      background-color: #3B4455;\n",
              "      fill: #D2E3FC;\n",
              "    }\n",
              "\n",
              "    [theme=dark] .colab-df-convert:hover {\n",
              "      background-color: #434B5C;\n",
              "      box-shadow: 0px 1px 3px 1px rgba(0, 0, 0, 0.15);\n",
              "      filter: drop-shadow(0px 1px 2px rgba(0, 0, 0, 0.3));\n",
              "      fill: #FFFFFF;\n",
              "    }\n",
              "  </style>\n",
              "\n",
              "    <script>\n",
              "      const buttonEl =\n",
              "        document.querySelector('#df-1e49ebe7-a786-47de-97dd-1686118cbe3f button.colab-df-convert');\n",
              "      buttonEl.style.display =\n",
              "        google.colab.kernel.accessAllowed ? 'block' : 'none';\n",
              "\n",
              "      async function convertToInteractive(key) {\n",
              "        const element = document.querySelector('#df-1e49ebe7-a786-47de-97dd-1686118cbe3f');\n",
              "        const dataTable =\n",
              "          await google.colab.kernel.invokeFunction('convertToInteractive',\n",
              "                                                    [key], {});\n",
              "        if (!dataTable) return;\n",
              "\n",
              "        const docLinkHtml = 'Like what you see? Visit the ' +\n",
              "          '<a target=\"_blank\" href=https://colab.research.google.com/notebooks/data_table.ipynb>data table notebook</a>'\n",
              "          + ' to learn more about interactive tables.';\n",
              "        element.innerHTML = '';\n",
              "        dataTable['output_type'] = 'display_data';\n",
              "        await google.colab.output.renderOutput(dataTable, element);\n",
              "        const docLink = document.createElement('div');\n",
              "        docLink.innerHTML = docLinkHtml;\n",
              "        element.appendChild(docLink);\n",
              "      }\n",
              "    </script>\n",
              "  </div>\n",
              "\n",
              "\n",
              "<div id=\"df-52de1d5f-ac94-4c52-be44-fc123ee2f402\">\n",
              "  <button class=\"colab-df-quickchart\" onclick=\"quickchart('df-52de1d5f-ac94-4c52-be44-fc123ee2f402')\"\n",
              "            title=\"Suggest charts\"\n",
              "            style=\"display:none;\">\n",
              "\n",
              "<svg xmlns=\"http://www.w3.org/2000/svg\" height=\"24px\"viewBox=\"0 0 24 24\"\n",
              "     width=\"24px\">\n",
              "    <g>\n",
              "        <path d=\"M19 3H5c-1.1 0-2 .9-2 2v14c0 1.1.9 2 2 2h14c1.1 0 2-.9 2-2V5c0-1.1-.9-2-2-2zM9 17H7v-7h2v7zm4 0h-2V7h2v10zm4 0h-2v-4h2v4z\"/>\n",
              "    </g>\n",
              "</svg>\n",
              "  </button>\n",
              "\n",
              "<style>\n",
              "  .colab-df-quickchart {\n",
              "      --bg-color: #E8F0FE;\n",
              "      --fill-color: #1967D2;\n",
              "      --hover-bg-color: #E2EBFA;\n",
              "      --hover-fill-color: #174EA6;\n",
              "      --disabled-fill-color: #AAA;\n",
              "      --disabled-bg-color: #DDD;\n",
              "  }\n",
              "\n",
              "  [theme=dark] .colab-df-quickchart {\n",
              "      --bg-color: #3B4455;\n",
              "      --fill-color: #D2E3FC;\n",
              "      --hover-bg-color: #434B5C;\n",
              "      --hover-fill-color: #FFFFFF;\n",
              "      --disabled-bg-color: #3B4455;\n",
              "      --disabled-fill-color: #666;\n",
              "  }\n",
              "\n",
              "  .colab-df-quickchart {\n",
              "    background-color: var(--bg-color);\n",
              "    border: none;\n",
              "    border-radius: 50%;\n",
              "    cursor: pointer;\n",
              "    display: none;\n",
              "    fill: var(--fill-color);\n",
              "    height: 32px;\n",
              "    padding: 0;\n",
              "    width: 32px;\n",
              "  }\n",
              "\n",
              "  .colab-df-quickchart:hover {\n",
              "    background-color: var(--hover-bg-color);\n",
              "    box-shadow: 0 1px 2px rgba(60, 64, 67, 0.3), 0 1px 3px 1px rgba(60, 64, 67, 0.15);\n",
              "    fill: var(--button-hover-fill-color);\n",
              "  }\n",
              "\n",
              "  .colab-df-quickchart-complete:disabled,\n",
              "  .colab-df-quickchart-complete:disabled:hover {\n",
              "    background-color: var(--disabled-bg-color);\n",
              "    fill: var(--disabled-fill-color);\n",
              "    box-shadow: none;\n",
              "  }\n",
              "\n",
              "  .colab-df-spinner {\n",
              "    border: 2px solid var(--fill-color);\n",
              "    border-color: transparent;\n",
              "    border-bottom-color: var(--fill-color);\n",
              "    animation:\n",
              "      spin 1s steps(1) infinite;\n",
              "  }\n",
              "\n",
              "  @keyframes spin {\n",
              "    0% {\n",
              "      border-color: transparent;\n",
              "      border-bottom-color: var(--fill-color);\n",
              "      border-left-color: var(--fill-color);\n",
              "    }\n",
              "    20% {\n",
              "      border-color: transparent;\n",
              "      border-left-color: var(--fill-color);\n",
              "      border-top-color: var(--fill-color);\n",
              "    }\n",
              "    30% {\n",
              "      border-color: transparent;\n",
              "      border-left-color: var(--fill-color);\n",
              "      border-top-color: var(--fill-color);\n",
              "      border-right-color: var(--fill-color);\n",
              "    }\n",
              "    40% {\n",
              "      border-color: transparent;\n",
              "      border-right-color: var(--fill-color);\n",
              "      border-top-color: var(--fill-color);\n",
              "    }\n",
              "    60% {\n",
              "      border-color: transparent;\n",
              "      border-right-color: var(--fill-color);\n",
              "    }\n",
              "    80% {\n",
              "      border-color: transparent;\n",
              "      border-right-color: var(--fill-color);\n",
              "      border-bottom-color: var(--fill-color);\n",
              "    }\n",
              "    90% {\n",
              "      border-color: transparent;\n",
              "      border-bottom-color: var(--fill-color);\n",
              "    }\n",
              "  }\n",
              "</style>\n",
              "\n",
              "  <script>\n",
              "    async function quickchart(key) {\n",
              "      const quickchartButtonEl =\n",
              "        document.querySelector('#' + key + ' button');\n",
              "      quickchartButtonEl.disabled = true;  // To prevent multiple clicks.\n",
              "      quickchartButtonEl.classList.add('colab-df-spinner');\n",
              "      try {\n",
              "        const charts = await google.colab.kernel.invokeFunction(\n",
              "            'suggestCharts', [key], {});\n",
              "      } catch (error) {\n",
              "        console.error('Error during call to suggestCharts:', error);\n",
              "      }\n",
              "      quickchartButtonEl.classList.remove('colab-df-spinner');\n",
              "      quickchartButtonEl.classList.add('colab-df-quickchart-complete');\n",
              "    }\n",
              "    (() => {\n",
              "      let quickchartButtonEl =\n",
              "        document.querySelector('#df-52de1d5f-ac94-4c52-be44-fc123ee2f402 button');\n",
              "      quickchartButtonEl.style.display =\n",
              "        google.colab.kernel.accessAllowed ? 'block' : 'none';\n",
              "    })();\n",
              "  </script>\n",
              "</div>\n",
              "\n",
              "    </div>\n",
              "  </div>\n"
            ],
            "application/vnd.google.colaboratory.intrinsic+json": {
              "type": "dataframe",
              "repr_error": "'str' object has no attribute 'empty'"
            }
          },
          "metadata": {},
          "execution_count": 4
        }
      ],
      "source": [
        "pd.read_csv(os.path.join(data_dir, \"DEOK_hourly.csv\")).head()"
      ]
    },
    {
      "cell_type": "code",
      "execution_count": 5,
      "metadata": {
        "colab": {
          "base_uri": "https://localhost:8080/",
          "height": 564
        },
        "id": "hAavbA0vmuEh",
        "outputId": "c121995e-4b6a-4bbe-ed6d-963ab98523f4"
      },
      "outputs": [
        {
          "output_type": "display_data",
          "data": {
            "text/plain": [
              "<Figure size 1000x600 with 1 Axes>"
            ],
            "image/png": "[encoded data removed]"
          },
          "metadata": {}
        }
      ],
      "source": [
        "csv_file_path = os.path.join(data_dir, \"DEOK_hourly.csv\")\n",
        "df = pd.read_csv(csv_file_path)\n",
        "sampled_df = df[::100]\n",
        "plt.figure(figsize=(10, 6))\n",
        "plt.plot(sampled_df['Datetime'], sampled_df['DEOK_MW'], color='blue')\n",
        "plt.title('Energy Consumption Over Time (Sampled)')\n",
        "plt.xlabel('Datetime')\n",
        "plt.ylabel('Energy Consumption (MW)')\n",
        "plt.grid(True)\n",
        "plt.show()"
      ]
    },
    {
      "cell_type": "code",
      "execution_count": 6,
      "metadata": {
        "id": "QeMJKQuAlwo8"
      },
      "outputs": [],
      "source": [
        "def move_sliding_window(data, window_size, inputs_cols_indices, label_col_index):\n",
        "    inputs = np.zeros((len(data) - window_size, window_size, len(inputs_cols_indices)))\n",
        "    labels = np.zeros(len(data) - window_size)\n",
        "\n",
        "    for i in range(window_size, len(data)):\n",
        "        inputs[i - window_size] = data[i - window_size : i, inputs_cols_indices]\n",
        "        labels[i - window_size] = data[i, label_col_index]\n",
        "    inputs = inputs.reshape(-1, window_size, len(inputs_cols_indices))\n",
        "    labels = labels.reshape(-1, 1)\n",
        "    print(inputs.shape, labels.shape)\n",
        "\n",
        "    return inputs, labels"
      ]
    },
    {
      "cell_type": "code",
      "execution_count": 7,
      "metadata": {
        "colab": {
          "base_uri": "https://localhost:8080/",
          "height": 223,
          "referenced_widgets": [
            "881a0d0b8ba14ef5a610c0978c5e2ad6",
            "9f9f73ec16ff45d39e0a4dc2466c85df",
            "720f699d48a44dd3ae0f0fc14c1d7191",
            "b012fd3d258d48e6af89e1720859b4e9",
            "72a70433ab45435792e7bc46f8b4cb67",
            "c3cc859ed9cf4d368f0da3d2301dc921",
            "6e02bce5ee1f44cb9e7c28687473166e",
            "e72283943a2e46e8a0db0c95e6cbb700",
            "486e6cba2cf842e8be869d87b24cbbd7",
            "a9f2bed7f3794a1fa29ec3c2280134cf",
            "e13a1777f0d24fdcbb5a2b3bd649e7b6"
          ]
        },
        "id": "dfbwX3nJUouR",
        "outputId": "03382792-9306-45ec-ee23-50a3c32b30d4"
      },
      "outputs": [
        {
          "output_type": "display_data",
          "data": {
            "text/plain": [
              "  0%|          | 0/5 [00:00<?, ?it/s]"
            ],
            "application/vnd.jupyter.widget-view+json": {
              "version_major": 2,
              "version_minor": 0,
              "model_id": "881a0d0b8ba14ef5a610c0978c5e2ad6"
            }
          },
          "metadata": {}
        },
        {
          "output_type": "stream",
          "name": "stdout",
          "text": [
            "Processing AEP_hourly.csv ...\n",
            "(121183, 90, 5) (121183, 1)\n",
            "Processing COMED_hourly.csv ...\n",
            "(66407, 90, 5) (66407, 1)\n",
            "Processing DAYTON_hourly.csv ...\n",
            "(121185, 90, 5) (121185, 1)\n",
            "Processing DOM_hourly.csv ...\n",
            "(116099, 90, 5) (116099, 1)\n",
            "Processing DEOK_hourly.csv ...\n",
            "(57649, 90, 5) (57649, 1)\n"
          ]
        }
      ],
      "source": [
        "label_col_index = 0\n",
        "inputs_cols_indices = range(\n",
        "    5\n",
        ")\n",
        "window_size = 90\n",
        "\n",
        "label_scalers = {}\n",
        "\n",
        "train_x = []\n",
        "test_x = {}\n",
        "test_y = {}\n",
        "\n",
        "processing_files = [\n",
        "    file for file in os.listdir(data_dir) if os.path.splitext(file)[1] == \".csv\"\n",
        "]\n",
        "\n",
        "num_files_for_dataset = 5\n",
        "\n",
        "for file in tqdm_notebook(processing_files[:num_files_for_dataset]):\n",
        "    print(f\"Processing {file} ...\")\n",
        "\n",
        "    df = pd.read_csv(os.path.join(data_dir, file), parse_dates=[\"Datetime\"])\n",
        "\n",
        "\n",
        "    df[\"hour\"] = df.apply(lambda x: x[\"Datetime\"].hour, axis=1)\n",
        "    df[\"dayofweek\"] = df.apply(lambda x: x[\"Datetime\"].dayofweek, axis=1)\n",
        "    df[\"month\"] = df.apply(lambda x: x[\"Datetime\"].month, axis=1)\n",
        "    df[\"dayofyear\"] = df.apply(lambda x: x[\"Datetime\"].dayofyear, axis=1)\n",
        "    df = df.sort_values(\"Datetime\").drop(\"Datetime\", axis=1)\n",
        "\n",
        "    sc = MinMaxScaler()\n",
        "    label_sc = MinMaxScaler()\n",
        "    data = sc.fit_transform(df.values)\n",
        "\n",
        "    label_sc.fit(df.iloc[:, label_col_index].values.reshape(-1, 1))\n",
        "    label_scalers[file] = label_sc\n",
        "\n",
        "    inputs, labels = move_sliding_window(\n",
        "        data,\n",
        "        window_size,\n",
        "        inputs_cols_indices=inputs_cols_indices,\n",
        "        label_col_index=label_col_index,\n",
        "    )\n",
        "\n",
        "\n",
        "    test_portion = int(0.1 * len(inputs))\n",
        "    if len(train_x) == 0:\n",
        "        train_x = inputs[:-test_portion]\n",
        "        train_y = labels[:-test_portion]\n",
        "    else:\n",
        "        train_x = np.concatenate((train_x, inputs[:-test_portion]))\n",
        "        train_y = np.concatenate((train_y, labels[:-test_portion]))\n",
        "    test_x[file] = inputs[-test_portion:]\n",
        "    test_y[file] = labels[-test_portion:]"
      ]
    },
    {
      "cell_type": "code",
      "execution_count": 8,
      "metadata": {
        "colab": {
          "base_uri": "https://localhost:8080/"
        },
        "id": "joeWE3y_UqgU",
        "outputId": "f02e79c2-7382-4743-ba48-5a379cf0fdb5"
      },
      "outputs": [
        {
          "output_type": "execute_result",
          "data": {
            "text/plain": [
              "((434274, 90, 5), (5764, 90, 5))"
            ]
          },
          "metadata": {},
          "execution_count": 8
        }
      ],
      "source": [
        "train_x.shape, test_x[\"DEOK_hourly.csv\"].shape"
      ]
    },
    {
      "cell_type": "code",
      "execution_count": 9,
      "metadata": {
        "colab": {
          "base_uri": "https://localhost:8080/"
        },
        "id": "wuJpRUQigeHd",
        "outputId": "f3eb69ff-77de-4e77-a3ac-b77cb604b584"
      },
      "outputs": [
        {
          "output_type": "stream",
          "name": "stdout",
          "text": [
            "GPU is available\n"
          ]
        }
      ],
      "source": [
        "# torch.cuda.is_available() checks and returns a Boolean True if a GPU is available, else it'll return False\n",
        "is_cuda = torch.cuda.is_available()\n",
        "\n",
        "# If we have a GPU available, we'll set our device to GPU. We'll use this device variable later in our code.\n",
        "if is_cuda:\n",
        "    device = torch.device(\"cuda\")\n",
        "    print(\"GPU is available\")\n",
        "else:\n",
        "    device = torch.device(\"cpu\")\n",
        "    print(\"CPU\")"
      ]
    },
    {
      "cell_type": "code",
      "execution_count": 10,
      "metadata": {
        "id": "zzDJCylsUxDm"
      },
      "outputs": [],
      "source": [
        "batch_size = 1024\n",
        "\n",
        "train_data = TensorDataset(torch.from_numpy(train_x), torch.from_numpy(train_y))\n",
        "\n",
        "train_loader = DataLoader(\n",
        "    train_data, shuffle=True, batch_size=batch_size, drop_last=True\n",
        ")"
      ]
    },
    {
      "cell_type": "code",
      "execution_count": 11,
      "metadata": {
        "id": "mkwj7x5QU_YA"
      },
      "outputs": [],
      "source": [
        "del train_x, train_y"
      ]
    },
    {
      "cell_type": "code",
      "execution_count": 12,
      "metadata": {
        "id": "WcC3hrkuVFo5"
      },
      "outputs": [],
      "source": [
        "class GRUNet(nn.Module):\n",
        "    def __init__(self, input_dim, hidden_dim, output_dim, n_layers, drop_prob=0.2):\n",
        "        super(GRUNet, self).__init__()\n",
        "        self.hidden_dim = hidden_dim\n",
        "        self.n_layers = n_layers\n",
        "\n",
        "        self.gru = nn.GRU(\n",
        "            input_dim, hidden_dim, n_layers, batch_first=True, dropout=drop_prob\n",
        "        )\n",
        "        self.fc = nn.Linear(hidden_dim, output_dim)\n",
        "        self.relu = nn.ReLU()\n",
        "\n",
        "    def forward(self, x, h):\n",
        "        out, h = self.gru(x, h)\n",
        "        out = self.fc(self.relu(out[:, -1]))\n",
        "        return out, h\n",
        "\n",
        "    def init_hidden(self, batch_size):\n",
        "        weight = next(self.parameters()).data\n",
        "        hidden = (\n",
        "            weight.new(self.n_layers, batch_size, self.hidden_dim).zero_().to(device)\n",
        "        )\n",
        "        return hidden\n",
        "\n",
        "\n",
        "class LSTMNet(nn.Module):\n",
        "    def __init__(self, input_dim, hidden_dim, output_dim, n_layers, drop_prob=0.2):\n",
        "        super(LSTMNet, self).__init__()\n",
        "        self.hidden_dim = hidden_dim\n",
        "        self.n_layers = n_layers\n",
        "\n",
        "        self.lstm = nn.LSTM(\n",
        "            input_dim, hidden_dim, n_layers, batch_first=True, dropout=drop_prob\n",
        "        )\n",
        "        self.fc = nn.Linear(hidden_dim, output_dim)\n",
        "        self.relu = nn.ReLU()\n",
        "\n",
        "    def forward(self, x, h):\n",
        "        out, h = self.lstm(x, h)\n",
        "        out = self.fc(self.relu(out[:, -1]))\n",
        "        return out, h\n",
        "\n",
        "    def init_hidden(self, batch_size):\n",
        "        weight = next(self.parameters()).data\n",
        "        hidden = (\n",
        "            weight.new(self.n_layers, batch_size, self.hidden_dim)\n",
        "            .zero_()\n",
        "            .to(device),\n",
        "            weight.new(self.n_layers, batch_size, self.hidden_dim).zero_().to(device),\n",
        "        )\n",
        "        return hidden"
      ]
    },
    {
      "cell_type": "code",
      "execution_count": 13,
      "metadata": {
        "id": "0khOFfdfVNlt"
      },
      "outputs": [],
      "source": [
        "def train(\n",
        "    train_loader,\n",
        "    learn_rate,\n",
        "    hidden_dim=256,\n",
        "    n_layers=2,\n",
        "    n_epochs=5,\n",
        "    model_type=\"GRU\",\n",
        "    print_every=100,\n",
        "):\n",
        "\n",
        "    input_dim = next(iter(train_loader))[0].shape[2]  # 5\n",
        "\n",
        "    # Batch generator (train_data, train_label)\n",
        "    # print(next(iter(train_loader))[0].shape, next(iter(train_loader))[1].shape) # torch.Size([1024, 90, 5]) torch.Size([1024, 1])\n",
        "\n",
        "    output_dim = 1\n",
        "\n",
        "    # Instantiating the models\n",
        "    if model_type == \"GRU\":\n",
        "        model = GRUNet(input_dim, hidden_dim, output_dim, n_layers)\n",
        "    else:\n",
        "        model = LSTMNet(input_dim, hidden_dim, output_dim, n_layers)\n",
        "    model.to(device)\n",
        "\n",
        "    # Defining loss function and optimizer\n",
        "    criterion = nn.MSELoss()  # Mean Squared Error\n",
        "    optimizer = torch.optim.Adam(model.parameters(), lr=learn_rate)\n",
        "\n",
        "    model.train()\n",
        "    print(\"Starting Training of {} model\".format(model_type))\n",
        "    epoch_times = []\n",
        "\n",
        "    # Start training loop\n",
        "    for epoch in range(1, n_epochs + 1):\n",
        "        start_time = time.process_time()\n",
        "        h = model.init_hidden(batch_size)\n",
        "        avg_loss = 0.0\n",
        "        counter = 0\n",
        "        for x, label in train_loader:\n",
        "            counter += 1\n",
        "            if model_type == \"GRU\":\n",
        "                h = h.data\n",
        "            # Unpcak both h_0 and c_0\n",
        "            elif model_type == \"LSTM\":\n",
        "                h = tuple([e.data for e in h])\n",
        "\n",
        "            # Set the gradients to zero before starting to do backpropragation because\n",
        "            # PyTorch accumulates the gradients on subsequent backward passes\n",
        "            model.zero_grad()\n",
        "\n",
        "            out, h = model(x.to(device).float(), h)\n",
        "            loss = criterion(out, label.to(device).float())\n",
        "\n",
        "            # Perform backpropragation\n",
        "            loss.backward()\n",
        "            optimizer.step()\n",
        "\n",
        "            avg_loss += loss.item()\n",
        "            if counter % print_every == 0:\n",
        "                print(\n",
        "                    f\"Epoch {epoch} - Step: {counter}/{len(train_loader)} - Average Loss for Epoch: {avg_loss/counter}\"\n",
        "                )\n",
        "        current_time = time.process_time()\n",
        "\n",
        "        print(\n",
        "            f\"Epoch {epoch}/{n_epochs} Done, Total Loss: {avg_loss/len(train_loader)}\"\n",
        "        )\n",
        "\n",
        "        print(f\"Time Elapsed for Epoch: {current_time-start_time} seconds\")\n",
        "\n",
        "        epoch_times.append(current_time - start_time)\n",
        "\n",
        "    print(f\"Total Training Time: {sum(epoch_times)} seconds\")\n",
        "    return model"
      ]
    },
    {
      "cell_type": "code",
      "execution_count": 14,
      "metadata": {
        "colab": {
          "base_uri": "https://localhost:8080/"
        },
        "id": "962jb6NOVSXA",
        "outputId": "e4e5e571-92de-426c-84f4-6e6f0245ae95"
      },
      "outputs": [
        {
          "output_type": "stream",
          "name": "stdout",
          "text": [
            "Starting Training of GRU model\n",
            "Epoch 1 - Step: 100/424 - Average Loss for Epoch: 0.01158024383126758\n",
            "Epoch 1 - Step: 200/424 - Average Loss for Epoch: 0.006451550881029107\n",
            "Epoch 1 - Step: 300/424 - Average Loss for Epoch: 0.004579535549273714\n",
            "Epoch 1 - Step: 400/424 - Average Loss for Epoch: 0.003588636249405681\n",
            "Epoch 1/5 Done, Total Loss: 0.0034141520383923736\n",
            "Time Elapsed for Epoch: 55.086426281 seconds\n",
            "Epoch 2 - Step: 100/424 - Average Loss for Epoch: 0.0004938888645847329\n",
            "Epoch 2 - Step: 200/424 - Average Loss for Epoch: 0.00044475855960627084\n",
            "Epoch 2 - Step: 300/424 - Average Loss for Epoch: 0.00041417785658268255\n",
            "Epoch 2 - Step: 400/424 - Average Loss for Epoch: 0.0003816932998233824\n",
            "Epoch 2/5 Done, Total Loss: 0.0003763282725659972\n",
            "Time Elapsed for Epoch: 59.31413482700002 seconds\n",
            "Epoch 3 - Step: 100/424 - Average Loss for Epoch: 0.00030223240100895054\n",
            "Epoch 3 - Step: 200/424 - Average Loss for Epoch: 0.0002744896515650908\n",
            "Epoch 3 - Step: 300/424 - Average Loss for Epoch: 0.00025838083340204323\n",
            "Epoch 3 - Step: 400/424 - Average Loss for Epoch: 0.0002503384168085177\n",
            "Epoch 3/5 Done, Total Loss: 0.0002477207979369131\n",
            "Time Elapsed for Epoch: 59.70267303 seconds\n",
            "Epoch 4 - Step: 100/424 - Average Loss for Epoch: 0.00021077274723211304\n",
            "Epoch 4 - Step: 200/424 - Average Loss for Epoch: 0.00020574737165588887\n",
            "Epoch 4 - Step: 300/424 - Average Loss for Epoch: 0.00020368149964876162\n",
            "Epoch 4 - Step: 400/424 - Average Loss for Epoch: 0.00019668087352329167\n",
            "Epoch 4/5 Done, Total Loss: 0.0001955354503325169\n",
            "Time Elapsed for Epoch: 59.92610623999997 seconds\n",
            "Epoch 5 - Step: 100/424 - Average Loss for Epoch: 0.00018868387560360133\n",
            "Epoch 5 - Step: 200/424 - Average Loss for Epoch: 0.00017660727091424632\n",
            "Epoch 5 - Step: 300/424 - Average Loss for Epoch: 0.00017316990886077595\n",
            "Epoch 5 - Step: 400/424 - Average Loss for Epoch: 0.00017151070125692058\n",
            "Epoch 5/5 Done, Total Loss: 0.00016980373774853398\n",
            "Time Elapsed for Epoch: 60.03109686199997 seconds\n",
            "Total Training Time: 294.06043723999994 seconds\n"
          ]
        }
      ],
      "source": [
        "# seq_len = 90  # (timestamps)\n",
        "n_hidden = 256\n",
        "n_layers = 2\n",
        "n_epochs = 5\n",
        "print_every = 100\n",
        "lr = 0.001\n",
        "gru_model = train(\n",
        "    train_loader,\n",
        "    learn_rate=lr,\n",
        "    hidden_dim=n_hidden,\n",
        "    n_layers=n_layers,\n",
        "    n_epochs=n_epochs,\n",
        "    model_type=\"GRU\",\n",
        "    print_every=print_every,\n",
        ")"
      ]
    },
    {
      "cell_type": "code",
      "execution_count": 15,
      "metadata": {
        "id": "puNSCdwJVVtJ"
      },
      "outputs": [],
      "source": [
        "\n",
        "torch.save(gru_model.state_dict(), \"/content/drive/MyDrive/Important/model/gru_model.pt\")"
      ]
    },
    {
      "cell_type": "code",
      "execution_count": null,
      "metadata": {
        "colab": {
          "base_uri": "https://localhost:8080/"
        },
        "id": "_vaTcUdGVbN1",
        "outputId": "bc581c0c-e386-4174-e675-f66e7d2eaf4d"
      },
      "outputs": [
        {
          "output_type": "stream",
          "name": "stdout",
          "text": [
            "Starting Training of LSTM model\n"
          ]
        }
      ],
      "source": [
        "lstm_model = train(\n",
        "    train_loader,\n",
        "    learn_rate=lr,\n",
        "    hidden_dim=n_hidden,\n",
        "    n_layers=n_layers,\n",
        "    n_epochs=n_epochs,\n",
        "    model_type=\"LSTM\",\n",
        "    print_every=print_every,\n",
        ")"
      ]
    },
    {
      "cell_type": "code",
      "execution_count": null,
      "metadata": {
        "id": "-NquEwyMkLEW"
      },
      "outputs": [],
      "source": [
        "torch.save(lstm_model.state_dict(), \"/content/drive/MyDrive/Important/model/lstm_model.pt\")"
      ]
    },
    {
      "cell_type": "code",
      "execution_count": null,
      "metadata": {
        "id": "QpZe9X-8kK18"
      },
      "outputs": [],
      "source": [
        "device=\"cpu\""
      ]
    },
    {
      "cell_type": "code",
      "execution_count": null,
      "metadata": {
        "id": "LRWZ9_CdoF9f"
      },
      "outputs": [],
      "source": [
        "hidden_dim = 256\n",
        "input_dim = 5\n",
        "output_dim = 1\n",
        "n_layers = 2\n",
        "gru_model = GRUNet(input_dim, hidden_dim, output_dim, n_layers)\n",
        "gru_model.load_state_dict(torch.load(\"/content/drive/MyDrive/Important/model/gru_model.pt\"))"
      ]
    },
    {
      "cell_type": "code",
      "execution_count": null,
      "metadata": {
        "id": "ZOth5336oaVj"
      },
      "outputs": [],
      "source": [
        "gru_model.to(device)"
      ]
    },
    {
      "cell_type": "code",
      "execution_count": null,
      "metadata": {
        "id": "XyORtCBbh59T"
      },
      "outputs": [],
      "source": [
        "hidden_dim = 256\n",
        "input_dim = 5\n",
        "output_dim = 1\n",
        "n_layers = 2\n",
        "lstm_model = LSTMNet(input_dim, hidden_dim, output_dim, n_layers)\n",
        "lstm_model.load_state_dict(torch.load(\"/content/drive/MyDrive/Important/model/lstm_model.pt\"))"
      ]
    },
    {
      "cell_type": "code",
      "execution_count": null,
      "metadata": {
        "id": "AbXuVw-TiEQT"
      },
      "outputs": [],
      "source": [
        "lstm_model.to(device)"
      ]
    },
    {
      "cell_type": "code",
      "execution_count": null,
      "metadata": {
        "id": "xINhpgYDiHVZ"
      },
      "outputs": [],
      "source": [
        "def sMAPE(outputs, targets):\n",
        "    sMAPE = (\n",
        "        100\n",
        "        / len(targets)\n",
        "        * np.sum(np.abs(outputs - targets) / (np.abs(outputs + targets)) / 2)\n",
        "    )\n",
        "    return sMAPE"
      ]
    },
    {
      "cell_type": "code",
      "execution_count": null,
      "metadata": {
        "id": "hAzhRC6qiJ7x"
      },
      "outputs": [],
      "source": [
        "def evaluate(model, test_x, test_y, label_scalers):\n",
        "    model.eval()\n",
        "    outputs = []\n",
        "    targets = []\n",
        "    start_time = time.process_time()\n",
        "    # get data of test data for each state\n",
        "    for file in test_x.keys():\n",
        "        inputs = torch.from_numpy(np.array(test_x[file]))\n",
        "        labels = torch.from_numpy(np.array(test_y[file]))\n",
        "\n",
        "        h = model.init_hidden(inputs.shape[0])\n",
        "\n",
        "        # predict outputs\n",
        "        with torch.no_grad():\n",
        "            out, h = model(inputs.to(device).float(), h)\n",
        "\n",
        "        outputs.append(\n",
        "            label_scalers[file]\n",
        "            .inverse_transform(out.cpu().detach().numpy())\n",
        "            .reshape(-1)\n",
        "        )\n",
        "\n",
        "        targets.append(\n",
        "            label_scalers[file].inverse_transform(labels.numpy()).reshape(-1)\n",
        "        )\n",
        "\n",
        "    # Merge all files\n",
        "    concatenated_outputs = np.concatenate(outputs)\n",
        "    concatenated_targets = np.concatenate(targets)\n",
        "\n",
        "    print(f\"Evaluation Time: {time.process_time()-start_time}\")\n",
        "    print(f\"sMAPE: {round(sMAPE(concatenated_outputs, concatenated_targets), 3)}%\")\n",
        "\n",
        "    # list of of targets/outputs for each state\n",
        "    return outputs, targets, sMAPE"
      ]
    },
    {
      "cell_type": "code",
      "execution_count": null,
      "metadata": {
        "id": "KOmB5vV3iLze"
      },
      "outputs": [],
      "source": [
        "gru_outputs, targets, gru_sMAPE = evaluate(gru_model, test_x, test_y, label_scalers)"
      ]
    },
    {
      "cell_type": "code",
      "execution_count": null,
      "metadata": {
        "id": "Qn8cy8sGiSV-"
      },
      "outputs": [],
      "source": [
        "lstm_outputs, targets, lstm_sMAPE = evaluate(lstm_model, test_x, test_y, label_scalers)"
      ]
    },
    {
      "cell_type": "code",
      "execution_count": null,
      "metadata": {
        "id": "C2K9fvzciWWm"
      },
      "outputs": [],
      "source": [
        "states_list = list(test_x.keys())"
      ]
    },
    {
      "cell_type": "code",
      "source": [
        "import pandas as pd\n",
        "\n",
        "def evaluate(model, test_x, test_y, label_scalers):\n",
        "    model.eval()\n",
        "    outputs = []\n",
        "    targets = []\n",
        "    start_time = time.process_time()\n",
        "    table_data = []\n",
        "\n",
        "    # get data of test data for each state\n",
        "    for file in test_x.keys():\n",
        "        inputs = torch.from_numpy(np.array(test_x[file]))\n",
        "        labels = torch.from_numpy(np.array(test_y[file]))\n",
        "\n",
        "        h = model.init_hidden(inputs.shape[0])\n",
        "\n",
        "        # predict outputs\n",
        "        with torch.no_grad():\n",
        "            out, h = model(inputs.to(device).float(), h)\n",
        "\n",
        "        # Transform outputs and targets back to original scale\n",
        "        predicted_values = label_scalers[file].inverse_transform(out.cpu().detach().numpy()).reshape(-1)\n",
        "        actual_values = label_scalers[file].inverse_transform(labels.numpy()).reshape(-1)\n",
        "\n",
        "        # Store the predicted and actual values in a DataFrame\n",
        "        state_data = pd.DataFrame({\n",
        "            'Hourly Consumption': actual_values,\n",
        "            'Predicted Values': predicted_values\n",
        "        })\n",
        "\n",
        "        # Append the DataFrame to the table data list\n",
        "        table_data.append(state_data)\n",
        "\n",
        "    # Concatenate all DataFrames in the table data list\n",
        "    result_table = pd.concat(table_data, keys=test_x.keys())\n",
        "\n",
        "    # Calculate evaluation time\n",
        "    evaluation_time = time.process_time() - start_time\n",
        "    print(f\"Evaluation Time: {evaluation_time}\")\n",
        "\n",
        "    # Calculate sMAPE\n",
        "    smape_value = round(sMAPE(result_table['Predicted Values'].values, result_table['Hourly Consumption'].values), 3)\n",
        "    print(f\"sMAPE: {smape_value}%\")\n",
        "\n",
        "    return result_table, evaluation_time, smape_value"
      ],
      "metadata": {
        "id": "HIVU4X1rkdOg"
      },
      "execution_count": null,
      "outputs": []
    },
    {
      "cell_type": "code",
      "execution_count": null,
      "metadata": {
        "id": "pkHbFh26iXB9"
      },
      "outputs": [],
      "source": [
        "plt.figure(figsize=(14, 10))\n",
        "plt.subplot(2, 2, 1)\n",
        "plt.plot(gru_outputs[0][-100:], \"-o\", color=\"g\", label=\"GRU Predictions\", markersize=2)\n",
        "plt.plot(\n",
        "    lstm_outputs[0][-100:], \"-o\", color=\"r\", label=\"LSTM Predictions\", markersize=2\n",
        ")\n",
        "plt.plot(targets[0][-100:], color=\"b\", label=\"Actual\")\n",
        "plt.ylabel(\"Energy Consumption (MW)\")\n",
        "plt.title(f\"Energy Consumption for {states_list[0]} state\")\n",
        "plt.legend()\n",
        "\n",
        "plt.subplot(2, 2, 2)\n",
        "plt.plot(gru_outputs[1][-50:], \"-o\", color=\"g\", label=\"GRU Predictions\", markersize=2)\n",
        "plt.plot(lstm_outputs[1][-50:], \"-o\", color=\"r\", label=\"LSTM Predictions\", markersize=2)\n",
        "plt.plot(targets[1][-50:], color=\"b\", label=\"Actual\")\n",
        "plt.ylabel(\"Energy Consumption (MW)\")\n",
        "plt.title(f\"Energy Consumption for {states_list[1]} state\")\n",
        "plt.legend()\n",
        "\n",
        "plt.subplot(2, 2, 3)\n",
        "plt.plot(gru_outputs[2][:50], \"-o\", color=\"g\", label=\"GRU Predictions\", markersize=2)\n",
        "plt.plot(lstm_outputs[2][:50], \"-o\", color=\"r\", label=\"LSTM Predictions\", markersize=2)\n",
        "plt.plot(targets[2][:50], color=\"b\", label=\"Actual\")\n",
        "plt.ylabel(\"Energy Consumption (MW)\")\n",
        "plt.title(f\"Energy Consumption for {states_list[2]} state\")\n",
        "plt.legend()\n",
        "\n",
        "plt.subplot(2, 2, 4)\n",
        "plt.plot(gru_outputs[3][:100], \"-o\", color=\"g\", label=\"GRU Predictions\", markersize=2)\n",
        "plt.plot(lstm_outputs[3][:100], \"-o\", color=\"r\", label=\"LSTM Predictions\", markersize=2)\n",
        "plt.plot(targets[3][:100], color=\"b\", label=\"Actual\")\n",
        "plt.title(f\"Energy Consumption for {states_list[3]} state\")\n",
        "plt.ylabel(\"Energy Consumption (MW)\")\n",
        "plt.legend()\n",
        "plt.show()"
      ]
    },
    {
      "cell_type": "code",
      "source": [
        "import pandas as pd\n",
        "import matplotlib.pyplot as plt\n",
        "\n",
        "# Assuming you have defined all the necessary variables such as gru_outputs, lstm_outputs, targets, and states_list\n",
        "\n",
        "# Create a DataFrame for each state's data\n",
        "data = []\n",
        "num_states = len(states_list)\n",
        "num_rows = (num_states + 1) // 2  # Calculate the number of rows needed for subplots\n",
        "\n",
        "for i in range(num_states):\n",
        "    state_data = {\n",
        "        \"Actual\": targets[i],\n",
        "        \"LSTM Prediction\": lstm_outputs[i].flatten(),\n",
        "        \"GRU Prediction\": gru_outputs[i].flatten()\n",
        "    }\n",
        "    state_df = pd.DataFrame(state_data)\n",
        "    data.append(state_df)\n",
        "\n",
        "# Plotting\n",
        "fig_width = 14\n",
        "fig_height = 5 * num_rows  # Adjust the figure height based on the number of rows\n",
        "plt.figure(figsize=(fig_width, fig_height))\n",
        "\n",
        "for i, state_df in enumerate(data):\n",
        "    plt.subplot(num_rows, 2, i+1)  # Adjust the subplot creation\n",
        "    plt.title(f\"Energy Consumption for {states_list[i]} state\")\n",
        "    plt.axis(\"off\")  # Turn off axis for the table\n",
        "    table = plt.table(cellText=state_df.values, colLabels=state_df.columns, cellLoc=\"center\", loc=\"center\")\n",
        "    table.auto_set_font_size(False)\n",
        "    table.set_fontsize(8)\n",
        "    table.scale(1.2, 1.2)  # Adjust the scaling as needed\n",
        "\n",
        "plt.tight_layout()  # Adjust the layout of subplots\n",
        "plt.show()\n"
      ],
      "metadata": {
        "id": "plSD3cyk9k56"
      },
      "execution_count": null,
      "outputs": []
    },
    {
      "cell_type": "code",
      "execution_count": null,
      "metadata": {
        "id": "kCVM0Z1wjJhM"
      },
      "outputs": [],
      "source": [
        "def predict_and_update_all_datasets(model, test_x, label_scalers, future_steps):\n",
        "    model.eval()\n",
        "    with torch.no_grad():\n",
        "        for file, inputs in test_x.items():\n",
        "            print(f\"Predictions for {file}:\")\n",
        "            input_sequence = torch.tensor(inputs[-1], dtype=torch.float32).to(device)  # Move tensor to device\n",
        "            label_scaler = label_scalers[file]\n",
        "            hidden = model.init_hidden(1).to(device)  # Move hidden state to device\n",
        "            for _ in range(future_steps):\n",
        "                # Forward pass through the model to get the prediction for the next hour\n",
        "                output, hidden = model(input_sequence.unsqueeze(0), hidden)  # Pass the hidden state\n",
        "                next_prediction = output[-1].item()  # Get the prediction for the next hour\n",
        "                print(\"Predicted Consumption:\", next_prediction)  # Display the predicted consumption\n",
        "\n",
        "                # Update input sequence with predicted value\n",
        "                input_sequence = torch.cat((input_sequence[1:], torch.tensor([[next_prediction]], dtype=torch.float32).to(device)), dim=0)\n",
        "\n",
        "                # Update the actual values with the predicted ones\n",
        "                inputs[-1][-1][0] = next_prediction / label_scaler.scale_\n",
        "\n",
        "# Example usage:\n",
        "future_steps = 1  # Predict the next hour consumption\n",
        "predict_and_update_all_datasets(gru_model, test_x, label_scalers, future_steps)\n"
      ]
    }
  ],
  "metadata": {
    "accelerator": "GPU",
    "colab": {
      "provenance": [],
      "include_colab_link": true
    },
    "kernelspec": {
      "display_name": "Python 3",
      "name": "python3"
    },
    "language_info": {
      "name": "python"
    },
    "widgets": {
      "application/vnd.jupyter.widget-state+json": {
        "881a0d0b8ba14ef5a610c0978c5e2ad6": {
          "model_module": "@jupyter-widgets/controls",
          "model_name": "HBoxModel",
          "model_module_version": "1.5.0",
          "state": {
            "_dom_classes": [],
            "_model_module": "@jupyter-widgets/controls",
            "_model_module_version": "1.5.0",
            "_model_name": "HBoxModel",
            "_view_count": null,
            "_view_module": "@jupyter-widgets/controls",
            "_view_module_version": "1.5.0",
            "_view_name": "HBoxView",
            "box_style": "",
            "children": [
              "IPY_MODEL_9f9f73ec16ff45d39e0a4dc2466c85df",
              "IPY_MODEL_720f699d48a44dd3ae0f0fc14c1d7191",
              "IPY_MODEL_b012fd3d258d48e6af89e1720859b4e9"
            ],
            "layout": "IPY_MODEL_72a70433ab45435792e7bc46f8b4cb67"
          }
        },
        "9f9f73ec16ff45d39e0a4dc2466c85df": {
          "model_module": "@jupyter-widgets/controls",
          "model_name": "HTMLModel",
          "model_module_version": "1.5.0",
          "state": {
            "_dom_classes": [],
            "_model_module": "@jupyter-widgets/controls",
            "_model_module_version": "1.5.0",
            "_model_name": "HTMLModel",
            "_view_count": null,
            "_view_module": "@jupyter-widgets/controls",
            "_view_module_version": "1.5.0",
            "_view_name": "HTMLView",
            "description": "",
            "description_tooltip": null,
            "layout": "IPY_MODEL_c3cc859ed9cf4d368f0da3d2301dc921",
            "placeholder": "​",
            "style": "IPY_MODEL_6e02bce5ee1f44cb9e7c28687473166e",
            "value": "100%"
          }
        },
        "720f699d48a44dd3ae0f0fc14c1d7191": {
          "model_module": "@jupyter-widgets/controls",
          "model_name": "FloatProgressModel",
          "model_module_version": "1.5.0",
          "state": {
            "_dom_classes": [],
            "_model_module": "@jupyter-widgets/controls",
            "_model_module_version": "1.5.0",
            "_model_name": "FloatProgressModel",
            "_view_count": null,
            "_view_module": "@jupyter-widgets/controls",
            "_view_module_version": "1.5.0",
            "_view_name": "ProgressView",
            "bar_style": "success",
            "description": "",
            "description_tooltip": null,
            "layout": "IPY_MODEL_e72283943a2e46e8a0db0c95e6cbb700",
            "max": 5,
            "min": 0,
            "orientation": "horizontal",
            "style": "IPY_MODEL_486e6cba2cf842e8be869d87b24cbbd7",
            "value": 5
          }
        },
        "b012fd3d258d48e6af89e1720859b4e9": {
          "model_module": "@jupyter-widgets/controls",
          "model_name": "HTMLModel",
          "model_module_version": "1.5.0",
          "state": {
            "_dom_classes": [],
            "_model_module": "@jupyter-widgets/controls",
            "_model_module_version": "1.5.0",
            "_model_name": "HTMLModel",
            "_view_count": null,
            "_view_module": "@jupyter-widgets/controls",
            "_view_module_version": "1.5.0",
            "_view_name": "HTMLView",
            "description": "",
            "description_tooltip": null,
            "layout": "IPY_MODEL_a9f2bed7f3794a1fa29ec3c2280134cf",
            "placeholder": "​",
            "style": "IPY_MODEL_e13a1777f0d24fdcbb5a2b3bd649e7b6",
            "value": " 5/5 [00:25&lt;00:00,  4.86s/it]"
          }
        },
        "72a70433ab45435792e7bc46f8b4cb67": {
          "model_module": "@jupyter-widgets/base",
          "model_name": "LayoutModel",
          "model_module_version": "1.2.0",
          "state": {
            "_model_module": "@jupyter-widgets/base",
            "_model_module_version": "1.2.0",
            "_model_name": "LayoutModel",
            "_view_count": null,
            "_view_module": "@jupyter-widgets/base",
            "_view_module_version": "1.2.0",
            "_view_name": "LayoutView",
            "align_content": null,
            "align_items": null,
            "align_self": null,
            "border": null,
            "bottom": null,
            "display": null,
            "flex": null,
            "flex_flow": null,
            "grid_area": null,
            "grid_auto_columns": null,
            "grid_auto_flow": null,
            "grid_auto_rows": null,
            "grid_column": null,
            "grid_gap": null,
            "grid_row": null,
            "grid_template_areas": null,
            "grid_template_columns": null,
            "grid_template_rows": null,
            "height": null,
            "justify_content": null,
            "justify_items": null,
            "left": null,
            "margin": null,
            "max_height": null,
            "max_width": null,
            "min_height": null,
            "min_width": null,
            "object_fit": null,
            "object_position": null,
            "order": null,
            "overflow": null,
            "overflow_x": null,
            "overflow_y": null,
            "padding": null,
            "right": null,
            "top": null,
            "visibility": null,
            "width": null
          }
        },
        "c3cc859ed9cf4d368f0da3d2301dc921": {
          "model_module": "@jupyter-widgets/base",
          "model_name": "LayoutModel",
          "model_module_version": "1.2.0",
          "state": {
            "_model_module": "@jupyter-widgets/base",
            "_model_module_version": "1.2.0",
            "_model_name": "LayoutModel",
            "_view_count": null,
            "_view_module": "@jupyter-widgets/base",
            "_view_module_version": "1.2.0",
            "_view_name": "LayoutView",
            "align_content": null,
            "align_items": null,
            "align_self": null,
            "border": null,
            "bottom": null,
            "display": null,
            "flex": null,
            "flex_flow": null,
            "grid_area": null,
            "grid_auto_columns": null,
            "grid_auto_flow": null,
            "grid_auto_rows": null,
            "grid_column": null,
            "grid_gap": null,
            "grid_row": null,
            "grid_template_areas": null,
            "grid_template_columns": null,
            "grid_template_rows": null,
            "height": null,
            "justify_content": null,
            "justify_items": null,
            "left": null,
            "margin": null,
            "max_height": null,
            "max_width": null,
            "min_height": null,
            "min_width": null,
            "object_fit": null,
            "object_position": null,
            "order": null,
            "overflow": null,
            "overflow_x": null,
            "overflow_y": null,
            "padding": null,
            "right": null,
            "top": null,
            "visibility": null,
            "width": null
          }
        },
        "6e02bce5ee1f44cb9e7c28687473166e": {
          "model_module": "@jupyter-widgets/controls",
          "model_name": "DescriptionStyleModel",
          "model_module_version": "1.5.0",
          "state": {
            "_model_module": "@jupyter-widgets/controls",
            "_model_module_version": "1.5.0",
            "_model_name": "DescriptionStyleModel",
            "_view_count": null,
            "_view_module": "@jupyter-widgets/base",
            "_view_module_version": "1.2.0",
            "_view_name": "StyleView",
            "description_width": ""
          }
        },
        "e72283943a2e46e8a0db0c95e6cbb700": {
          "model_module": "@jupyter-widgets/base",
          "model_name": "LayoutModel",
          "model_module_version": "1.2.0",
          "state": {
            "_model_module": "@jupyter-widgets/base",
            "_model_module_version": "1.2.0",
            "_model_name": "LayoutModel",
            "_view_count": null,
            "_view_module": "@jupyter-widgets/base",
            "_view_module_version": "1.2.0",
            "_view_name": "LayoutView",
            "align_content": null,
            "align_items": null,
            "align_self": null,
            "border": null,
            "bottom": null,
            "display": null,
            "flex": null,
            "flex_flow": null,
            "grid_area": null,
            "grid_auto_columns": null,
            "grid_auto_flow": null,
            "grid_auto_rows": null,
            "grid_column": null,
            "grid_gap": null,
            "grid_row": null,
            "grid_template_areas": null,
            "grid_template_columns": null,
            "grid_template_rows": null,
            "height": null,
            "justify_content": null,
            "justify_items": null,
            "left": null,
            "margin": null,
            "max_height": null,
            "max_width": null,
            "min_height": null,
            "min_width": null,
            "object_fit": null,
            "object_position": null,
            "order": null,
            "overflow": null,
            "overflow_x": null,
            "overflow_y": null,
            "padding": null,
            "right": null,
            "top": null,
            "visibility": null,
            "width": null
          }
        },
        "486e6cba2cf842e8be869d87b24cbbd7": {
          "model_module": "@jupyter-widgets/controls",
          "model_name": "ProgressStyleModel",
          "model_module_version": "1.5.0",
          "state": {
            "_model_module": "@jupyter-widgets/controls",
            "_model_module_version": "1.5.0",
            "_model_name": "ProgressStyleModel",
            "_view_count": null,
            "_view_module": "@jupyter-widgets/base",
            "_view_module_version": "1.2.0",
            "_view_name": "StyleView",
            "bar_color": null,
            "description_width": ""
          }
        },
        "a9f2bed7f3794a1fa29ec3c2280134cf": {
          "model_module": "@jupyter-widgets/base",
          "model_name": "LayoutModel",
          "model_module_version": "1.2.0",
          "state": {
            "_model_module": "@jupyter-widgets/base",
            "_model_module_version": "1.2.0",
            "_model_name": "LayoutModel",
            "_view_count": null,
            "_view_module": "@jupyter-widgets/base",
            "_view_module_version": "1.2.0",
            "_view_name": "LayoutView",
            "align_content": null,
            "align_items": null,
            "align_self": null,
            "border": null,
            "bottom": null,
            "display": null,
            "flex": null,
            "flex_flow": null,
            "grid_area": null,
            "grid_auto_columns": null,
            "grid_auto_flow": null,
            "grid_auto_rows": null,
            "grid_column": null,
            "grid_gap": null,
            "grid_row": null,
            "grid_template_areas": null,
            "grid_template_columns": null,
            "grid_template_rows": null,
            "height": null,
            "justify_content": null,
            "justify_items": null,
            "left": null,
            "margin": null,
            "max_height": null,
            "max_width": null,
            "min_height": null,
            "min_width": null,
            "object_fit": null,
            "object_position": null,
            "order": null,
            "overflow": null,
            "overflow_x": null,
            "overflow_y": null,
            "padding": null,
            "right": null,
            "top": null,
            "visibility": null,
            "width": null
          }
        },
        "e13a1777f0d24fdcbb5a2b3bd649e7b6": {
          "model_module": "@jupyter-widgets/controls",
          "model_name": "DescriptionStyleModel",
          "model_module_version": "1.5.0",
          "state": {
            "_model_module": "@jupyter-widgets/controls",
            "_model_module_version": "1.5.0",
            "_model_name": "DescriptionStyleModel",
            "_view_count": null,
            "_view_module": "@jupyter-widgets/base",
            "_view_module_version": "1.2.0",
            "_view_name": "StyleView",
            "description_width": ""
          }
        }
      }
    }
  },
  "nbformat": 4,
  "nbformat_minor": 0
}